{
  "nbformat": 4,
  "nbformat_minor": 0,
  "metadata": {
    "colab": {
      "provenance": [],
      "authorship_tag": "ABX9TyNEkso49K0L748OyHrS4HKQ",
      "include_colab_link": true
    },
    "kernelspec": {
      "name": "python3",
      "display_name": "Python 3"
    },
    "language_info": {
      "name": "python"
    }
  },
  "cells": [
    {
      "cell_type": "markdown",
      "metadata": {
        "id": "view-in-github",
        "colab_type": "text"
      },
      "source": [
        "<a href=\"https://colab.research.google.com/github/YaduSM001/Datascience-assignment/blob/main/python_basics.ipynb\" target=\"_parent\"><img src=\"https://colab.research.google.com/assets/colab-badge.svg\" alt=\"Open In Colab\"/></a>"
      ]
    },
    {
      "cell_type": "code",
      "execution_count": null,
      "metadata": {
        "id": "7BuWxg_n7roW"
      },
      "outputs": [],
      "source": []
    },
    {
      "cell_type": "markdown",
      "source": [
        "***1. Given the string \"Hello, World!\", extract and print the\n",
        "substring \"Hello\".***"
      ],
      "metadata": {
        "id": "bgtYQWEN8gTB"
      }
    },
    {
      "cell_type": "code",
      "source": [
        "string = \"Hello, World!\"\n",
        "substring = string[:5]\n",
        "print(substring)\n"
      ],
      "metadata": {
        "colab": {
          "base_uri": "https://localhost:8080/"
        },
        "id": "Ckxc-A3d8o8R",
        "outputId": "985afd56-e741-4f57-dd5e-5e5b1071c90f"
      },
      "execution_count": 3,
      "outputs": [
        {
          "output_type": "stream",
          "name": "stdout",
          "text": [
            "Hello\n"
          ]
        }
      ]
    },
    {
      "cell_type": "markdown",
      "source": [
        "***2. Given the string \"Python is fun\", extract and print the\n",
        "substring \"is\".***"
      ],
      "metadata": {
        "id": "psdtXnkl8thb"
      }
    },
    {
      "cell_type": "code",
      "source": [
        "string = \"Python is fun\"\n",
        "substring = string[7:9]\n",
        "print(substring)\n"
      ],
      "metadata": {
        "colab": {
          "base_uri": "https://localhost:8080/"
        },
        "id": "v34l9CVD8yNp",
        "outputId": "362dd225-2f61-4768-eae5-f0d23a06d10d"
      },
      "execution_count": 5,
      "outputs": [
        {
          "output_type": "stream",
          "name": "stdout",
          "text": [
            "is\n"
          ]
        }
      ]
    },
    {
      "cell_type": "markdown",
      "source": [
        "***3. Given the string \"Programming\", extract and print the\n",
        "substring \"gram\" using slicing indices.***"
      ],
      "metadata": {
        "id": "XFH4gjss85g5"
      }
    },
    {
      "cell_type": "code",
      "source": [
        "string = \"Programming\"\n",
        "substring = string[3:7]\n",
        "print(substring)\n"
      ],
      "metadata": {
        "colab": {
          "base_uri": "https://localhost:8080/"
        },
        "id": "qHIifdtX9BqD",
        "outputId": "1381598a-c946-4638-866c-b953bea9a014"
      },
      "execution_count": 6,
      "outputs": [
        {
          "output_type": "stream",
          "name": "stdout",
          "text": [
            "gram\n"
          ]
        }
      ]
    },
    {
      "cell_type": "markdown",
      "source": [
        "***4. Given the string \"abcdefgh\", use slicing to print only the\n",
        "characters at even indices.***"
      ],
      "metadata": {
        "id": "CFz-5wF89Elq"
      }
    },
    {
      "cell_type": "code",
      "source": [
        "string = \"abcdefgh\"\n",
        "even_indices_chars = string[::2]\n",
        "print(even_indices_chars)\n"
      ],
      "metadata": {
        "colab": {
          "base_uri": "https://localhost:8080/"
        },
        "id": "jNjNwnqm9UJC",
        "outputId": "bd3773d9-746b-469b-d811-9feff21d33d4"
      },
      "execution_count": 7,
      "outputs": [
        {
          "output_type": "stream",
          "name": "stdout",
          "text": [
            "aceg\n"
          ]
        }
      ]
    },
    {
      "cell_type": "markdown",
      "source": [
        "***5. Given the string \"abcdefg\", use negative indices to extract\n",
        "and print the substring \"efg\".***"
      ],
      "metadata": {
        "id": "NF-V09jC9Xez"
      }
    },
    {
      "cell_type": "code",
      "source": [
        "string = \"abcdefg\"\n",
        "substring = string[-4:]\n",
        "print(substring)\n"
      ],
      "metadata": {
        "colab": {
          "base_uri": "https://localhost:8080/"
        },
        "id": "ZutzROdw9a0I",
        "outputId": "62176be9-dd8d-4d2e-e182-fa773a55f69e"
      },
      "execution_count": 8,
      "outputs": [
        {
          "output_type": "stream",
          "name": "stdout",
          "text": [
            "defg\n"
          ]
        }
      ]
    },
    {
      "cell_type": "markdown",
      "source": [
        "***6. Given the string \"Data Science\", use negative indices to\n",
        "extract and print the last three characters.***"
      ],
      "metadata": {
        "id": "mouhIvFu9f6Z"
      }
    },
    {
      "cell_type": "code",
      "source": [
        "string = \"Data Science\"\n",
        "last_three_chars = string[-3:]\n",
        "print(last_three_chars)\n"
      ],
      "metadata": {
        "colab": {
          "base_uri": "https://localhost:8080/"
        },
        "id": "L8UU-n4V9mjR",
        "outputId": "ff5e126d-fd40-41a5-bc5b-349d873e5a34"
      },
      "execution_count": 9,
      "outputs": [
        {
          "output_type": "stream",
          "name": "stdout",
          "text": [
            "nce\n"
          ]
        }
      ]
    },
    {
      "cell_type": "markdown",
      "source": [
        "***7. Given the string \"abcdefghij\", use slicing with a step to\n",
        "print every second character.***"
      ],
      "metadata": {
        "id": "IYmG0_ep9mRx"
      }
    },
    {
      "cell_type": "code",
      "source": [
        "string = \"abcdefghij\"\n",
        "every_second_char = string[::2]\n",
        "print(every_second_char)\n"
      ],
      "metadata": {
        "colab": {
          "base_uri": "https://localhost:8080/"
        },
        "id": "lnLAgVOn94rT",
        "outputId": "63c6ec8f-88c6-4675-d721-a50a9ad2340b"
      },
      "execution_count": 10,
      "outputs": [
        {
          "output_type": "stream",
          "name": "stdout",
          "text": [
            "acegi\n"
          ]
        }
      ]
    },
    {
      "cell_type": "markdown",
      "source": [
        "***8. Given the string \"1234567890\", use slicing with a step to\n",
        "print the odd digits.***"
      ],
      "metadata": {
        "id": "6WKIXIxu98bi"
      }
    },
    {
      "cell_type": "code",
      "source": [
        "string = \"1234567890\"\n",
        "odd_digits = string[1::2]\n",
        "print(odd_digits)\n"
      ],
      "metadata": {
        "colab": {
          "base_uri": "https://localhost:8080/"
        },
        "id": "uTlFpu4u9_dB",
        "outputId": "67a20177-0a8a-44e9-a435-7468538ea0d9"
      },
      "execution_count": 11,
      "outputs": [
        {
          "output_type": "stream",
          "name": "stdout",
          "text": [
            "24680\n"
          ]
        }
      ]
    },
    {
      "cell_type": "markdown",
      "source": [
        "***9. Given the string \"Hello\", use slicing to print the string in\n",
        "reverse order.***"
      ],
      "metadata": {
        "id": "jFyJTsSE-DWS"
      }
    },
    {
      "cell_type": "code",
      "source": [
        "string = \"Hello\"\n",
        "reversed_string = string[::-1]\n",
        "print(reversed_string)\n"
      ],
      "metadata": {
        "colab": {
          "base_uri": "https://localhost:8080/"
        },
        "id": "N8FBPlTv-BGh",
        "outputId": "c6178692-ea3f-4ab9-d351-a5070191df0c"
      },
      "execution_count": 12,
      "outputs": [
        {
          "output_type": "stream",
          "name": "stdout",
          "text": [
            "olleH\n"
          ]
        }
      ]
    },
    {
      "cell_type": "markdown",
      "source": [
        "***10. Given the string \"abcdefghijk\", extract and print the\n",
        "substring \"acegik\" using slicing.***"
      ],
      "metadata": {
        "id": "k-X1Nd7k-LnD"
      }
    },
    {
      "cell_type": "code",
      "source": [
        "string = \"abcdefghijk\"\n",
        "substring = string[::2]\n",
        "print(substring)\n"
      ],
      "metadata": {
        "colab": {
          "base_uri": "https://localhost:8080/"
        },
        "id": "q4yWAFXL-QBi",
        "outputId": "11bbac07-59f7-485d-e3b3-740462f61806"
      },
      "execution_count": 13,
      "outputs": [
        {
          "output_type": "stream",
          "name": "stdout",
          "text": [
            "acegik\n"
          ]
        }
      ]
    },
    {
      "cell_type": "markdown",
      "source": [
        "***11.Write a program to find sum of all elements in a list of\n",
        "integers***"
      ],
      "metadata": {
        "id": "vBAouic_-SRC"
      }
    },
    {
      "cell_type": "code",
      "source": [
        "numbers = [1, 2, 3, 4, 5, 6, 7, 8, 9, 10]\n",
        "\n",
        "total_sum = sum(numbers)\n",
        "print(\"The sum of all elements in the list is:\", total_sum)\n"
      ],
      "metadata": {
        "colab": {
          "base_uri": "https://localhost:8080/"
        },
        "id": "7VCTDD7m-grx",
        "outputId": "1c54da94-8a8b-4a3b-cdef-74a1899915b1"
      },
      "execution_count": 16,
      "outputs": [
        {
          "output_type": "stream",
          "name": "stdout",
          "text": [
            "The sum of all elements in the list is: 55\n"
          ]
        }
      ]
    },
    {
      "cell_type": "markdown",
      "source": [
        "***12. Input a sentence as a string.\n",
        "a) Print its length\n",
        "b) Print the first half of string***"
      ],
      "metadata": {
        "id": "h9w6j0GX-gEA"
      }
    },
    {
      "cell_type": "code",
      "source": [
        "sentence = input(\"Enter a sentence: \")\n",
        "\n",
        "length = len(sentence)\n",
        "print(\"Length of the sentence:\", length)\n",
        "\n",
        "first_half = sentence[:length//2]\n",
        "print(\"First half of the sentence:\", first_half)\n"
      ],
      "metadata": {
        "colab": {
          "base_uri": "https://localhost:8080/"
        },
        "id": "LBWEobDa-vpL",
        "outputId": "3cad5bb3-3eb9-4509-816f-393c736658ea"
      },
      "execution_count": 17,
      "outputs": [
        {
          "output_type": "stream",
          "name": "stdout",
          "text": [
            "Enter a sentence: ftyuiik\n",
            "Length of the sentence: 7\n",
            "First half of the sentence: fty\n"
          ]
        }
      ]
    },
    {
      "cell_type": "markdown",
      "source": [
        "***13. Write a program to enter a tuple of integers as\n",
        "(78,45,32,19,82,77,40,39). Change the third value in the tuple to\n",
        "100***"
      ],
      "metadata": {
        "id": "MNhDRJYB_J25"
      }
    },
    {
      "cell_type": "code",
      "source": [
        "original_tuple = (78, 45, 32, 19, 82, 77, 40, 39)\n",
        "\n",
        "temp_list = list(original_tuple)\n",
        "\n",
        "temp_list[2] = 100\n",
        "\n",
        "modified_tuple = tuple(temp_list)\n",
        "\n",
        "print(\"Modified tuple:\", modified_tuple)\n"
      ],
      "metadata": {
        "colab": {
          "base_uri": "https://localhost:8080/"
        },
        "id": "yI3Hg5_P-Wn6",
        "outputId": "e66cd9cb-c3d1-4584-ed4b-7fee9c2e3a7c"
      },
      "execution_count": 19,
      "outputs": [
        {
          "output_type": "stream",
          "name": "stdout",
          "text": [
            "Modified tuple: (78, 45, 100, 19, 82, 77, 40, 39)\n"
          ]
        }
      ]
    },
    {
      "cell_type": "markdown",
      "source": [
        "***14. Consider a list\n",
        "listA=[19,32,10,55,31,32,94,29,10,65,77,40,40]\n",
        "(a) Delete the first occurrence of 32\n",
        "(b) Delete all occurrences of 40\n",
        "(c) Delete the value at index=5\n",
        "(d) Modify the value at index=9 as 300\n",
        "(e) Add 200 at index=2\n",
        "(f) Print the final list with its length, maximum value\n",
        "and sum of all elements***"
      ],
      "metadata": {
        "id": "yzBhyk817spK"
      }
    },
    {
      "cell_type": "code",
      "source": [
        "listA = [19, 32, 10, 55, 31, 32, 94, 29, 10, 65, 77, 40, 40]\n",
        "\n",
        "if 32 in listA:\n",
        "    listA.remove(32)\n",
        "\n",
        "listA = [x for x in listA if x != 40]\n",
        "\n",
        "if len(listA) > 5:\n",
        "    del listA[5]\n",
        "\n",
        "if len(listA) > 9:\n",
        "    listA[9] = 300\n",
        "\n",
        "listA.insert(2, 200)\n",
        "\n",
        "print(\"Final list:\", listA)\n",
        "print(\"Length of list:\", len(listA))\n",
        "print(\"Maximum value in list:\", max(listA))\n",
        "print(\"Sum of all elements in list:\", sum(listA))\n",
        "\n"
      ],
      "metadata": {
        "colab": {
          "base_uri": "https://localhost:8080/"
        },
        "id": "BOYinEG87uwy",
        "outputId": "93739143-6adb-40c5-c4ab-cf4b8f542c22"
      },
      "execution_count": 2,
      "outputs": [
        {
          "output_type": "stream",
          "name": "stdout",
          "text": [
            "Final list: [19, 10, 200, 55, 31, 32, 29, 10, 65, 77]\n",
            "Length of list: 10\n",
            "Maximum value in list: 200\n",
            "Sum of all elements in list: 528\n"
          ]
        }
      ]
    },
    {
      "cell_type": "markdown",
      "source": [
        "***15. Consider a string ”The day has been long”.\n",
        "(a) Delete the value at index =4\n",
        "(b) Print the string 4 times in a single line with space\n",
        "between each repetition\n",
        "(c) Print the string 3 times in a new line each time\n",
        "(d) Modify the string at index 7 as ’A’\n",
        "(e) Print the string from index 4 to 15\n",
        "(f) Print the final string with its length***"
      ],
      "metadata": {
        "id": "wuFy4CXa_Y1h"
      }
    },
    {
      "cell_type": "code",
      "source": [
        "string = \"The day has been long\"\n",
        "\n",
        "string_a = string[:4] + string[5:]\n",
        "print(string_a)\n",
        "\n",
        "print(\" \".join([string] * 4))\n",
        "\n",
        "print(\"\\n\".join([string] * 3))\n",
        "\n",
        "string_list = list(string)\n",
        "string_list[7] = 'A'\n",
        "string_d = ''.join(string_list)\n",
        "print(string_d)\n",
        "\n",
        "substring_e = string[4:16]\n",
        "print(substring_e)\n",
        "\n",
        "print(\"Final string:\", string)\n",
        "print(\"Length of the final string:\", len(string))\n"
      ],
      "metadata": {
        "colab": {
          "base_uri": "https://localhost:8080/"
        },
        "id": "wGxibcXl7y2c",
        "outputId": "7eee4050-eb3d-44c2-ab2f-107402b87c8e"
      },
      "execution_count": 20,
      "outputs": [
        {
          "output_type": "stream",
          "name": "stdout",
          "text": [
            "The ay has been long\n",
            "The day has been long The day has been long The day has been long The day has been long\n",
            "The day has been long\n",
            "The day has been long\n",
            "The day has been long\n",
            "The dayAhas been long\n",
            "day has been\n",
            "Final string: The day has been long\n",
            "Length of the final string: 21\n"
          ]
        }
      ]
    }
  ]
}