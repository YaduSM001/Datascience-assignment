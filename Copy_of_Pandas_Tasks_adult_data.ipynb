{
  "nbformat": 4,
  "nbformat_minor": 0,
  "metadata": {
    "colab": {
      "provenance": [],
      "toc_visible": true,
      "include_colab_link": true
    },
    "kernelspec": {
      "name": "python3",
      "display_name": "Python 3"
    },
    "language_info": {
      "name": "python"
    }
  },
  "cells": [
    {
      "cell_type": "markdown",
      "metadata": {
        "id": "view-in-github",
        "colab_type": "text"
      },
      "source": [
        "<a href=\"https://colab.research.google.com/github/YaduSM001/Datascience-assignment/blob/main/Copy_of_Pandas_Tasks_adult_data.ipynb\" target=\"_parent\"><img src=\"https://colab.research.google.com/assets/colab-badge.svg\" alt=\"Open In Colab\"/></a>"
      ]
    },
    {
      "cell_type": "code",
      "execution_count": null,
      "metadata": {
        "id": "JkDcsOfDRC5o"
      },
      "outputs": [],
      "source": []
    },
    {
      "cell_type": "markdown",
      "source": [
        "read the data"
      ],
      "metadata": {
        "id": "oeZnLikWRDs_"
      }
    },
    {
      "cell_type": "code",
      "source": [
        "import pandas as pd\n",
        "\n",
        "\n",
        "file_path =  '/content/adult.csv'\n",
        "\n",
        "df = pd.read_csv('/content/adult.csv')\n",
        "\n",
        "\n",
        "print(df.head())\n",
        "\n"
      ],
      "metadata": {
        "id": "f6v3MFa-RF5i",
        "colab": {
          "base_uri": "https://localhost:8080/"
        },
        "outputId": "636d3d3d-ee4d-4320-e214-1b2caded221c"
      },
      "execution_count": null,
      "outputs": [
        {
          "output_type": "stream",
          "name": "stdout",
          "text": [
            "   age  workclass  fnlwgt     education  educational-num      marital-status  \\\n",
            "0   25    Private  226802          11th                7       Never-married   \n",
            "1   38    Private   89814       HS-grad                9  Married-civ-spouse   \n",
            "2   28  Local-gov  336951    Assoc-acdm               12  Married-civ-spouse   \n",
            "3   44    Private  160323  Some-college               10  Married-civ-spouse   \n",
            "4   18          ?  103497  Some-college               10       Never-married   \n",
            "\n",
            "          occupation relationship   race  gender  capital-gain  capital-loss  \\\n",
            "0  Machine-op-inspct    Own-child  Black    Male             0             0   \n",
            "1    Farming-fishing      Husband  White    Male             0             0   \n",
            "2    Protective-serv      Husband  White    Male             0             0   \n",
            "3  Machine-op-inspct      Husband  Black    Male          7688             0   \n",
            "4                  ?    Own-child  White  Female             0             0   \n",
            "\n",
            "   hours-per-week native-country income  \n",
            "0              40  United-States  <=50K  \n",
            "1              50  United-States  <=50K  \n",
            "2              40  United-States   >50K  \n",
            "3              40  United-States   >50K  \n",
            "4              30  United-States  <=50K  \n"
          ]
        }
      ]
    },
    {
      "cell_type": "markdown",
      "source": [
        "Display the first 5 rows of the dataset."
      ],
      "metadata": {
        "id": "M0eR7nLZRGeT"
      }
    },
    {
      "cell_type": "code",
      "source": [
        "import pandas as pd\n",
        "\n",
        "df = pd.read_csv('/content/adult.csv')\n",
        "\n",
        "print(df.head())\n"
      ],
      "metadata": {
        "id": "hnbbT3PpRHri",
        "colab": {
          "base_uri": "https://localhost:8080/"
        },
        "outputId": "581527e4-9df4-404c-ff02-834300f5070f"
      },
      "execution_count": null,
      "outputs": [
        {
          "output_type": "stream",
          "name": "stdout",
          "text": [
            "   age  workclass  fnlwgt     education  educational-num      marital-status  \\\n",
            "0   25    Private  226802          11th                7       Never-married   \n",
            "1   38    Private   89814       HS-grad                9  Married-civ-spouse   \n",
            "2   28  Local-gov  336951    Assoc-acdm               12  Married-civ-spouse   \n",
            "3   44    Private  160323  Some-college               10  Married-civ-spouse   \n",
            "4   18          ?  103497  Some-college               10       Never-married   \n",
            "\n",
            "          occupation relationship   race  gender  capital-gain  capital-loss  \\\n",
            "0  Machine-op-inspct    Own-child  Black    Male             0             0   \n",
            "1    Farming-fishing      Husband  White    Male             0             0   \n",
            "2    Protective-serv      Husband  White    Male             0             0   \n",
            "3  Machine-op-inspct      Husband  Black    Male          7688             0   \n",
            "4                  ?    Own-child  White  Female             0             0   \n",
            "\n",
            "   hours-per-week native-country income  \n",
            "0              40  United-States  <=50K  \n",
            "1              50  United-States  <=50K  \n",
            "2              40  United-States   >50K  \n",
            "3              40  United-States   >50K  \n",
            "4              30  United-States  <=50K  \n"
          ]
        }
      ]
    },
    {
      "cell_type": "markdown",
      "source": [
        "summary of the DataFrame"
      ],
      "metadata": {
        "id": "asqYVwG_RIBb"
      }
    },
    {
      "cell_type": "code",
      "source": [
        "import pandas as pd\n",
        "\n",
        "\n",
        "df = pd.read_csv('/content/adult.csv')\n",
        "\n",
        "print(\"DataFrame Info:\")\n",
        "print(df.info())\n",
        "\n",
        "print(\"\\nStatistical Summary:\")\n",
        "print(df.describe())\n",
        "\n",
        "print(\"\\nFirst 5 Rows:\")\n",
        "print(df.head())\n",
        "\n",
        "\n",
        "print(\"\\nColumn Names:\")\n",
        "print(df.columns)\n",
        "\n",
        "print(\"\\nMissing Values:\")\n",
        "print(df.isnull().sum())\n"
      ],
      "metadata": {
        "colab": {
          "base_uri": "https://localhost:8080/"
        },
        "id": "9F9sArhEaEyb",
        "outputId": "736b64c7-e79a-4ce2-ecca-8f7e890895b7"
      },
      "execution_count": null,
      "outputs": [
        {
          "output_type": "stream",
          "name": "stdout",
          "text": [
            "DataFrame Info:\n",
            "<class 'pandas.core.frame.DataFrame'>\n",
            "RangeIndex: 48842 entries, 0 to 48841\n",
            "Data columns (total 15 columns):\n",
            " #   Column           Non-Null Count  Dtype \n",
            "---  ------           --------------  ----- \n",
            " 0   age              48842 non-null  int64 \n",
            " 1   workclass        48842 non-null  object\n",
            " 2   fnlwgt           48842 non-null  int64 \n",
            " 3   education        48842 non-null  object\n",
            " 4   educational-num  48842 non-null  int64 \n",
            " 5   marital-status   48842 non-null  object\n",
            " 6   occupation       48842 non-null  object\n",
            " 7   relationship     48842 non-null  object\n",
            " 8   race             48842 non-null  object\n",
            " 9   gender           48842 non-null  object\n",
            " 10  capital-gain     48842 non-null  int64 \n",
            " 11  capital-loss     48842 non-null  int64 \n",
            " 12  hours-per-week   48842 non-null  int64 \n",
            " 13  native-country   48842 non-null  object\n",
            " 14  income           48842 non-null  object\n",
            "dtypes: int64(6), object(9)\n",
            "memory usage: 5.6+ MB\n",
            "None\n",
            "\n",
            "Statistical Summary:\n",
            "                age        fnlwgt  educational-num  capital-gain  \\\n",
            "count  48842.000000  4.884200e+04     48842.000000  48842.000000   \n",
            "mean      38.643585  1.896641e+05        10.078089   1079.067626   \n",
            "std       13.710510  1.056040e+05         2.570973   7452.019058   \n",
            "min       17.000000  1.228500e+04         1.000000      0.000000   \n",
            "25%       28.000000  1.175505e+05         9.000000      0.000000   \n",
            "50%       37.000000  1.781445e+05        10.000000      0.000000   \n",
            "75%       48.000000  2.376420e+05        12.000000      0.000000   \n",
            "max       90.000000  1.490400e+06        16.000000  99999.000000   \n",
            "\n",
            "       capital-loss  hours-per-week  \n",
            "count  48842.000000    48842.000000  \n",
            "mean      87.502314       40.422382  \n",
            "std      403.004552       12.391444  \n",
            "min        0.000000        1.000000  \n",
            "25%        0.000000       40.000000  \n",
            "50%        0.000000       40.000000  \n",
            "75%        0.000000       45.000000  \n",
            "max     4356.000000       99.000000  \n",
            "\n",
            "First 5 Rows:\n",
            "   age  workclass  fnlwgt     education  educational-num      marital-status  \\\n",
            "0   25    Private  226802          11th                7       Never-married   \n",
            "1   38    Private   89814       HS-grad                9  Married-civ-spouse   \n",
            "2   28  Local-gov  336951    Assoc-acdm               12  Married-civ-spouse   \n",
            "3   44    Private  160323  Some-college               10  Married-civ-spouse   \n",
            "4   18          ?  103497  Some-college               10       Never-married   \n",
            "\n",
            "          occupation relationship   race  gender  capital-gain  capital-loss  \\\n",
            "0  Machine-op-inspct    Own-child  Black    Male             0             0   \n",
            "1    Farming-fishing      Husband  White    Male             0             0   \n",
            "2    Protective-serv      Husband  White    Male             0             0   \n",
            "3  Machine-op-inspct      Husband  Black    Male          7688             0   \n",
            "4                  ?    Own-child  White  Female             0             0   \n",
            "\n",
            "   hours-per-week native-country income  \n",
            "0              40  United-States  <=50K  \n",
            "1              50  United-States  <=50K  \n",
            "2              40  United-States   >50K  \n",
            "3              40  United-States   >50K  \n",
            "4              30  United-States  <=50K  \n",
            "\n",
            "Column Names:\n",
            "Index(['age', 'workclass', 'fnlwgt', 'education', 'educational-num',\n",
            "       'marital-status', 'occupation', 'relationship', 'race', 'gender',\n",
            "       'capital-gain', 'capital-loss', 'hours-per-week', 'native-country',\n",
            "       'income'],\n",
            "      dtype='object')\n",
            "\n",
            "Missing Values:\n",
            "age                0\n",
            "workclass          0\n",
            "fnlwgt             0\n",
            "education          0\n",
            "educational-num    0\n",
            "marital-status     0\n",
            "occupation         0\n",
            "relationship       0\n",
            "race               0\n",
            "gender             0\n",
            "capital-gain       0\n",
            "capital-loss       0\n",
            "hours-per-week     0\n",
            "native-country     0\n",
            "income             0\n",
            "dtype: int64\n"
          ]
        }
      ]
    },
    {
      "cell_type": "markdown",
      "source": [
        "descriptive statistics for numeric columns"
      ],
      "metadata": {
        "id": "owO_78hGRPYK"
      }
    },
    {
      "cell_type": "code",
      "source": [
        "import pandas as pd\n",
        "\n",
        "df = pd.read_csv('/content/adult.csv')\n",
        "\n",
        "print(\"Descriptive Statistics:\")\n",
        "print(df.describe())\n"
      ],
      "metadata": {
        "id": "egJOKtYGRQIW",
        "colab": {
          "base_uri": "https://localhost:8080/"
        },
        "outputId": "4fc36c13-6a33-49a9-a6e7-a8c51be64887"
      },
      "execution_count": null,
      "outputs": [
        {
          "output_type": "stream",
          "name": "stdout",
          "text": [
            "Descriptive Statistics:\n",
            "                age        fnlwgt  educational-num  capital-gain  \\\n",
            "count  48842.000000  4.884200e+04     48842.000000  48842.000000   \n",
            "mean      38.643585  1.896641e+05        10.078089   1079.067626   \n",
            "std       13.710510  1.056040e+05         2.570973   7452.019058   \n",
            "min       17.000000  1.228500e+04         1.000000      0.000000   \n",
            "25%       28.000000  1.175505e+05         9.000000      0.000000   \n",
            "50%       37.000000  1.781445e+05        10.000000      0.000000   \n",
            "75%       48.000000  2.376420e+05        12.000000      0.000000   \n",
            "max       90.000000  1.490400e+06        16.000000  99999.000000   \n",
            "\n",
            "       capital-loss  hours-per-week  \n",
            "count  48842.000000    48842.000000  \n",
            "mean      87.502314       40.422382  \n",
            "std      403.004552       12.391444  \n",
            "min        0.000000        1.000000  \n",
            "25%        0.000000       40.000000  \n",
            "50%        0.000000       40.000000  \n",
            "75%        0.000000       45.000000  \n",
            "max     4356.000000       99.000000  \n"
          ]
        }
      ]
    },
    {
      "cell_type": "markdown",
      "source": [
        "Display the column names of the DataFrame."
      ],
      "metadata": {
        "id": "3gcgaLEfRSjj"
      }
    },
    {
      "cell_type": "code",
      "source": [
        "import pandas as pd\n",
        "\n",
        "df = pd.read_csv('/content/adult.csv')\n",
        "print(\"Column Names:\")\n",
        "print(df.columns)\n"
      ],
      "metadata": {
        "id": "T5xzlLqtRTYT",
        "colab": {
          "base_uri": "https://localhost:8080/"
        },
        "outputId": "fd98812d-553f-458a-93dc-fdb2e95c65a4"
      },
      "execution_count": null,
      "outputs": [
        {
          "output_type": "stream",
          "name": "stdout",
          "text": [
            "Column Names:\n",
            "Index(['age', 'workclass', 'fnlwgt', 'education', 'educational-num',\n",
            "       'marital-status', 'occupation', 'relationship', 'race', 'gender',\n",
            "       'capital-gain', 'capital-loss', 'hours-per-week', 'native-country',\n",
            "       'income'],\n",
            "      dtype='object')\n"
          ]
        }
      ]
    },
    {
      "cell_type": "markdown",
      "source": [
        "unique values in the 'workclass' column."
      ],
      "metadata": {
        "id": "r-w_MuEvRVyk"
      }
    },
    {
      "cell_type": "code",
      "source": [
        "import pandas as pd\n",
        "\n",
        "df = pd.read_csv('/content/adult.csv')\n",
        "unique_workclass_values = df['workclass'].unique()\n",
        "print(\"Unique values in 'workclass' column:\")\n",
        "print(unique_workclass_values)\n"
      ],
      "metadata": {
        "id": "GE2XirkjRXAc",
        "colab": {
          "base_uri": "https://localhost:8080/"
        },
        "outputId": "88ab0342-0dcb-4330-c768-e21776ba1dff"
      },
      "execution_count": null,
      "outputs": [
        {
          "output_type": "stream",
          "name": "stdout",
          "text": [
            "Unique values in 'workclass' column:\n",
            "['Private' 'Local-gov' '?' 'Self-emp-not-inc' 'Federal-gov' 'State-gov'\n",
            " 'Self-emp-inc' 'Without-pay' 'Never-worked']\n"
          ]
        }
      ]
    },
    {
      "cell_type": "markdown",
      "source": [
        "Create a new column 'income_binary' where <=50K is 0 and >50K is 1."
      ],
      "metadata": {
        "id": "9lA9RnDCRZYf"
      }
    },
    {
      "cell_type": "markdown",
      "source": [
        "Create a new column 'age_group' categorizing ages into 'Youth' (< 30), 'Adult' (30-60), and 'Senior' (60+)."
      ],
      "metadata": {
        "id": "OHGJMko4Rc8r"
      }
    },
    {
      "cell_type": "code",
      "source": [
        "import pandas as pd\n",
        "\n",
        "\n",
        "df = pd.read_csv('/content/adult.csv')\n",
        "\n",
        "\n",
        "df['income_binary'] = df['income'].apply(lambda x: 1 if x.strip() == '>50K' else 0)\n",
        "\n",
        "\n",
        "print(\"DataFrame with 'income_binary' column:\")\n",
        "print(df[['income', 'income_binary']].head())\n",
        "\n"
      ],
      "metadata": {
        "id": "e3Jb3Cr0ReFT",
        "colab": {
          "base_uri": "https://localhost:8080/"
        },
        "outputId": "b5f6e4a0-ab0b-47c0-bfa2-386f47853b74"
      },
      "execution_count": null,
      "outputs": [
        {
          "output_type": "stream",
          "name": "stdout",
          "text": [
            "DataFrame with 'income_binary' column:\n",
            "  income  income_binary\n",
            "0  <=50K              0\n",
            "1  <=50K              0\n",
            "2   >50K              1\n",
            "3   >50K              1\n",
            "4  <=50K              0\n"
          ]
        }
      ]
    },
    {
      "cell_type": "markdown",
      "source": [
        "Rename the 'educational-num' column to 'education_num'."
      ],
      "metadata": {
        "id": "lQE44AW5Ref1"
      }
    },
    {
      "cell_type": "code",
      "source": [
        "import pandas as pd\n",
        "\n",
        "df = pd.read_csv('/content/adult.csv')\n",
        "\n",
        "df.rename(columns={'educational-num': 'education_num'}, inplace=True)\n",
        "\n",
        "\n",
        "print(\"DataFrame with renamed column:\")\n",
        "print(df.head())\n"
      ],
      "metadata": {
        "id": "jW0Ml7yCRkhm",
        "colab": {
          "base_uri": "https://localhost:8080/"
        },
        "outputId": "536b2cfd-fb42-4b24-bebf-a9312d2010a9"
      },
      "execution_count": null,
      "outputs": [
        {
          "output_type": "stream",
          "name": "stdout",
          "text": [
            "DataFrame with renamed column:\n",
            "   age  workclass  fnlwgt     education  education_num      marital-status  \\\n",
            "0   25    Private  226802          11th              7       Never-married   \n",
            "1   38    Private   89814       HS-grad              9  Married-civ-spouse   \n",
            "2   28  Local-gov  336951    Assoc-acdm             12  Married-civ-spouse   \n",
            "3   44    Private  160323  Some-college             10  Married-civ-spouse   \n",
            "4   18          ?  103497  Some-college             10       Never-married   \n",
            "\n",
            "          occupation relationship   race  gender  capital-gain  capital-loss  \\\n",
            "0  Machine-op-inspct    Own-child  Black    Male             0             0   \n",
            "1    Farming-fishing      Husband  White    Male             0             0   \n",
            "2    Protective-serv      Husband  White    Male             0             0   \n",
            "3  Machine-op-inspct      Husband  Black    Male          7688             0   \n",
            "4                  ?    Own-child  White  Female             0             0   \n",
            "\n",
            "   hours-per-week native-country income  \n",
            "0              40  United-States  <=50K  \n",
            "1              50  United-States  <=50K  \n",
            "2              40  United-States   >50K  \n",
            "3              40  United-States   >50K  \n",
            "4              30  United-States  <=50K  \n"
          ]
        }
      ]
    },
    {
      "cell_type": "markdown",
      "source": [
        "Replace the missing values represented by '?' in 'workclass' and 'occupation' columns with 'Unknown'."
      ],
      "metadata": {
        "id": "QZnM8h18Rk2m"
      }
    },
    {
      "cell_type": "code",
      "source": [
        "import pandas as pd\n",
        "\n",
        "\n",
        "df = pd.read_csv('/content/adult.csv')\n",
        "\n",
        "\n",
        "df[['workclass', 'occupation']] = df[['workclass', 'occupation']].replace('?', 'Unknown')\n",
        "\n",
        "\n",
        "print(\"DataFrame after replacing '?' with 'Unknown':\")\n",
        "print(df[['workclass', 'occupation']].head())\n"
      ],
      "metadata": {
        "id": "OMykaJ26Rvdz",
        "colab": {
          "base_uri": "https://localhost:8080/"
        },
        "outputId": "854ff9fd-3d3d-46d8-b621-8e66139b14f5"
      },
      "execution_count": null,
      "outputs": [
        {
          "output_type": "stream",
          "name": "stdout",
          "text": [
            "DataFrame after replacing '?' with 'Unknown':\n",
            "   workclass         occupation\n",
            "0    Private  Machine-op-inspct\n",
            "1    Private    Farming-fishing\n",
            "2  Local-gov    Protective-serv\n",
            "3    Private  Machine-op-inspct\n",
            "4    Unknown            Unknown\n"
          ]
        }
      ]
    },
    {
      "cell_type": "markdown",
      "source": [
        "Calculate the average age for each workclass."
      ],
      "metadata": {
        "id": "gVhFPmSYdQmG"
      }
    },
    {
      "cell_type": "code",
      "source": [
        "import pandas as pd\n",
        "\n",
        "df = pd.read_csv('/content/adult.csv')\n",
        "\n",
        "average_age_by_workclass = df.groupby('workclass')['age'].mean()\n",
        "print(\"Average Age for Each Workclass:\")\n",
        "print(average_age_by_workclass)\n"
      ],
      "metadata": {
        "colab": {
          "base_uri": "https://localhost:8080/"
        },
        "id": "RbGSmJd4dwdS",
        "outputId": "617ecaff-2801-45fa-9621-48c2f617d909"
      },
      "execution_count": null,
      "outputs": [
        {
          "output_type": "stream",
          "name": "stdout",
          "text": [
            "Average Age for Each Workclass:\n",
            "workclass\n",
            "?                   40.141122\n",
            "Federal-gov         42.577514\n",
            "Local-gov           41.676020\n",
            "Never-worked        19.900000\n",
            "Private             36.903144\n",
            "Self-emp-inc        45.799410\n",
            "Self-emp-not-inc    45.332470\n",
            "State-gov           39.512367\n",
            "Without-pay         47.285714\n",
            "Name: age, dtype: float64\n"
          ]
        }
      ]
    },
    {
      "cell_type": "markdown",
      "source": [
        "Find the total capital-gain for each gender."
      ],
      "metadata": {
        "id": "RI77BsjkRxaj"
      }
    },
    {
      "cell_type": "code",
      "source": [
        "import pandas as pd\n",
        "\n",
        "\n",
        "df = pd.read_csv('/content/adult.csv')\n",
        "\n",
        "total_capital_gain_by_gender = df.groupby('gender')['capital-gain'].sum()\n",
        "\n",
        "print(\"Total Capital Gain for Each Gender:\")\n",
        "print(total_capital_gain_by_gender)\n"
      ],
      "metadata": {
        "id": "Fy6MdoLLR1sw",
        "colab": {
          "base_uri": "https://localhost:8080/"
        },
        "outputId": "248cb293-6af3-4f14-a146-d127d2e5ed93"
      },
      "execution_count": null,
      "outputs": [
        {
          "output_type": "stream",
          "name": "stdout",
          "text": [
            "Total Capital Gain for Each Gender:\n",
            "gender\n",
            "Female     9403120\n",
            "Male      43300701\n",
            "Name: capital-gain, dtype: int64\n"
          ]
        }
      ]
    },
    {
      "cell_type": "markdown",
      "source": [
        "Get the count of each marital-status category."
      ],
      "metadata": {
        "id": "nRIhYKEURrLO"
      }
    },
    {
      "cell_type": "code",
      "source": [
        "import pandas as pd\n",
        "\n",
        "\n",
        "df = pd.read_csv('/content/adult.csv')\n",
        "\n",
        "\n",
        "marital_status_counts = df['marital-status'].value_counts()\n",
        "\n",
        "\n",
        "print(\"Count of Each Marital Status Category:\")\n",
        "print(marital_status_counts)\n"
      ],
      "metadata": {
        "id": "1maOMDw4R5UK",
        "colab": {
          "base_uri": "https://localhost:8080/"
        },
        "outputId": "9e55a3a8-ec3d-4593-e3a3-9ba525b951bd"
      },
      "execution_count": null,
      "outputs": [
        {
          "output_type": "stream",
          "name": "stdout",
          "text": [
            "Count of Each Marital Status Category:\n",
            "marital-status\n",
            "Married-civ-spouse       22379\n",
            "Never-married            16117\n",
            "Divorced                  6633\n",
            "Separated                 1530\n",
            "Widowed                   1518\n",
            "Married-spouse-absent      628\n",
            "Married-AF-spouse           37\n",
            "Name: count, dtype: int64\n"
          ]
        }
      ]
    },
    {
      "cell_type": "markdown",
      "source": [
        "Find the mean hours-per-week worked by individuals in different education levels."
      ],
      "metadata": {
        "id": "c31zHtUjR5qo"
      }
    },
    {
      "cell_type": "code",
      "source": [
        "import pandas as pd\n",
        "\n",
        "df = pd.read_csv('/content/adult.csv')\n",
        "\n",
        "mean_hours_by_education = df.groupby('education')['hours-per-week'].mean()\n",
        "\n",
        "print(\"Mean Hours Worked Per Week by Education Level:\")\n",
        "print(mean_hours_by_education)\n"
      ],
      "metadata": {
        "id": "2L4CvtUyR8Fi",
        "colab": {
          "base_uri": "https://localhost:8080/"
        },
        "outputId": "cf6b6efd-ad91-429f-ce16-2cfcd1492fce"
      },
      "execution_count": null,
      "outputs": [
        {
          "output_type": "stream",
          "name": "stdout",
          "text": [
            "Mean Hours Worked Per Week by Education Level:\n",
            "education\n",
            "10th            36.986321\n",
            "11th            33.952539\n",
            "12th            35.374429\n",
            "1st-4th         38.761134\n",
            "5th-6th         38.923379\n",
            "7th-8th         39.003141\n",
            "9th             38.359788\n",
            "Assoc-acdm      40.809494\n",
            "Assoc-voc       41.658418\n",
            "Bachelors       42.482492\n",
            "Doctorate       46.582492\n",
            "HS-grad         40.640775\n",
            "Masters         43.575837\n",
            "Preschool       36.566265\n",
            "Prof-school     47.579137\n",
            "Some-college    38.865784\n",
            "Name: hours-per-week, dtype: float64\n"
          ]
        }
      ]
    },
    {
      "cell_type": "markdown",
      "source": [
        "Calculate the mean, median, and standard deviation of 'fnlwgt' for each race."
      ],
      "metadata": {
        "id": "4qloBOBRR8Xj"
      }
    },
    {
      "cell_type": "code",
      "source": [
        "import pandas as pd\n",
        "\n",
        "df = pd.read_csv('/content/adult.csv')\n",
        "\n",
        "stats_by_race = df.groupby('race')['fnlwgt'].agg(['mean', 'median', 'std'])\n",
        "\n",
        "print(\"Mean, Median, and Standard Deviation of 'fnlwgt' by Race:\")\n",
        "print(stats_by_race)\n"
      ],
      "metadata": {
        "colab": {
          "base_uri": "https://localhost:8080/"
        },
        "id": "yplrWWAGfcvW",
        "outputId": "3067b839-389d-4089-92df-2464af695161"
      },
      "execution_count": null,
      "outputs": [
        {
          "output_type": "stream",
          "name": "stdout",
          "text": [
            "Mean, Median, and Standard Deviation of 'fnlwgt' by Race:\n",
            "                             mean    median            std\n",
            "race                                                      \n",
            "Amer-Indian-Eskimo  120110.985106  101579.0   94655.908850\n",
            "Asian-Pac-Islander  159796.946675  139850.0   86997.647681\n",
            "Black               230485.070438  208266.0  125445.929357\n",
            "Other               195715.689655  188066.5   94063.712981\n",
            "White               186894.995738  177287.0  102637.466726\n"
          ]
        }
      ]
    },
    {
      "cell_type": "code",
      "source": [],
      "metadata": {
        "id": "IGo9GyvufcsI"
      },
      "execution_count": null,
      "outputs": []
    },
    {
      "cell_type": "markdown",
      "source": [
        "Get the unique values and their counts for the 'native-country' column"
      ],
      "metadata": {
        "id": "dEGRU01lR_2X"
      }
    },
    {
      "cell_type": "code",
      "source": [
        "import pandas as pd\n",
        "\n",
        "df = pd.read_csv('/content/adult.csv')\n",
        "native_country_counts = df['native-country'].value_counts()\n",
        "\n",
        "print(\"Unique Values and Their Counts for 'native-country':\")\n",
        "print(native_country_counts)\n"
      ],
      "metadata": {
        "id": "pxp2d2JTSE1q",
        "colab": {
          "base_uri": "https://localhost:8080/"
        },
        "outputId": "fc001906-b1c4-4552-89af-d288a406076d"
      },
      "execution_count": null,
      "outputs": [
        {
          "output_type": "stream",
          "name": "stdout",
          "text": [
            "Unique Values and Their Counts for 'native-country':\n",
            "native-country\n",
            "United-States                 43832\n",
            "Mexico                          951\n",
            "?                               857\n",
            "Philippines                     295\n",
            "Germany                         206\n",
            "Puerto-Rico                     184\n",
            "Canada                          182\n",
            "El-Salvador                     155\n",
            "India                           151\n",
            "Cuba                            138\n",
            "England                         127\n",
            "China                           122\n",
            "South                           115\n",
            "Jamaica                         106\n",
            "Italy                           105\n",
            "Dominican-Republic              103\n",
            "Japan                            92\n",
            "Guatemala                        88\n",
            "Poland                           87\n",
            "Vietnam                          86\n",
            "Columbia                         85\n",
            "Haiti                            75\n",
            "Portugal                         67\n",
            "Taiwan                           65\n",
            "Iran                             59\n",
            "Greece                           49\n",
            "Nicaragua                        49\n",
            "Peru                             46\n",
            "Ecuador                          45\n",
            "France                           38\n",
            "Ireland                          37\n",
            "Hong                             30\n",
            "Thailand                         30\n",
            "Cambodia                         28\n",
            "Trinadad&Tobago                  27\n",
            "Laos                             23\n",
            "Yugoslavia                       23\n",
            "Outlying-US(Guam-USVI-etc)       23\n",
            "Scotland                         21\n",
            "Honduras                         20\n",
            "Hungary                          19\n",
            "Holand-Netherlands                1\n",
            "Name: count, dtype: int64\n"
          ]
        }
      ]
    },
    {
      "cell_type": "markdown",
      "source": [
        "Filter the dataset to include only individuals with income >50K."
      ],
      "metadata": {
        "id": "fr_Lg7kzUClD"
      }
    },
    {
      "cell_type": "code",
      "source": [
        "import pandas as pd\n",
        "\n",
        "df = pd.read_csv('/content/adult.csv')\n",
        "df_high_income = df[df['income'].str.strip() == '>50K']\n",
        "\n",
        "print(\"Filtered DataFrame (Income >50K):\")\n",
        "print(df_high_income.head())\n"
      ],
      "metadata": {
        "id": "WsyyQR9fUDn5",
        "colab": {
          "base_uri": "https://localhost:8080/"
        },
        "outputId": "7219a49d-a825-48e7-91bf-edff668891d3"
      },
      "execution_count": null,
      "outputs": [
        {
          "output_type": "stream",
          "name": "stdout",
          "text": [
            "Filtered DataFrame (Income >50K):\n",
            "    age         workclass  fnlwgt     education  educational-num  \\\n",
            "2    28         Local-gov  336951    Assoc-acdm               12   \n",
            "3    44           Private  160323  Some-college               10   \n",
            "7    63  Self-emp-not-inc  104626   Prof-school               15   \n",
            "10   65           Private  184454       HS-grad                9   \n",
            "14   48           Private  279724       HS-grad                9   \n",
            "\n",
            "        marital-status         occupation relationship   race gender  \\\n",
            "2   Married-civ-spouse    Protective-serv      Husband  White   Male   \n",
            "3   Married-civ-spouse  Machine-op-inspct      Husband  Black   Male   \n",
            "7   Married-civ-spouse     Prof-specialty      Husband  White   Male   \n",
            "10  Married-civ-spouse  Machine-op-inspct      Husband  White   Male   \n",
            "14  Married-civ-spouse  Machine-op-inspct      Husband  White   Male   \n",
            "\n",
            "    capital-gain  capital-loss  hours-per-week native-country income  \n",
            "2              0             0              40  United-States   >50K  \n",
            "3           7688             0              40  United-States   >50K  \n",
            "7           3103             0              32  United-States   >50K  \n",
            "10          6418             0              40  United-States   >50K  \n",
            "14          3103             0              48  United-States   >50K  \n"
          ]
        }
      ]
    },
    {
      "cell_type": "markdown",
      "source": [
        "Sort the dataset by age in descending order."
      ],
      "metadata": {
        "id": "19-aDl96UD9x"
      }
    },
    {
      "cell_type": "code",
      "source": [
        "import pandas as pd\n",
        "\n",
        "df = pd.read_csv('/content/adult.csv')\n",
        "\n",
        "df_sorted = df.sort_values(by='age', ascending=False)\n",
        "\n",
        "print(df_sorted.head())\n"
      ],
      "metadata": {
        "id": "dt_BdbMfUIQx",
        "colab": {
          "base_uri": "https://localhost:8080/"
        },
        "outputId": "11353496-15e9-4905-e6c6-8c70b5bd13b0"
      },
      "execution_count": null,
      "outputs": [
        {
          "output_type": "stream",
          "name": "stdout",
          "text": [
            "       age  workclass  fnlwgt education  educational-num      marital-status  \\\n",
            "40519   90          ?  166343   1st-4th                2             Widowed   \n",
            "21553   90    Private  141758       9th                5       Never-married   \n",
            "47977   90          ?  313986   HS-grad                9  Married-civ-spouse   \n",
            "21651   90  Local-gov  227796   Masters               14  Married-civ-spouse   \n",
            "41584   90          ?  175444   7th-8th                4           Separated   \n",
            "\n",
            "            occupation   relationship   race  gender  capital-gain  \\\n",
            "40519                ?  Not-in-family  Black  Female             0   \n",
            "21553     Adm-clerical  Not-in-family  White  Female             0   \n",
            "47977                ?        Husband  White    Male             0   \n",
            "21651  Exec-managerial        Husband  White    Male         20051   \n",
            "41584                ?  Not-in-family  White  Female             0   \n",
            "\n",
            "       capital-loss  hours-per-week native-country income  \n",
            "40519             0              40  United-States  <=50K  \n",
            "21553             0              40  United-States  <=50K  \n",
            "47977             0              40  United-States   >50K  \n",
            "21651             0              60  United-States   >50K  \n",
            "41584             0              15  United-States  <=50K  \n"
          ]
        }
      ]
    },
    {
      "cell_type": "markdown",
      "source": [
        "Filter the dataset to include only individuals who work more than 40 hours per week.\n",
        "\n"
      ],
      "metadata": {
        "id": "aHuVJpuWUHj6"
      }
    },
    {
      "cell_type": "code",
      "source": [
        "import pandas as pd\n",
        "\n",
        "df = pd.read_csv('/content/adult.csv')\n",
        "\n",
        "df_filtered = df[df['hours-per-week'] > 40]\n",
        "\n",
        "print(df_filtered.head())\n"
      ],
      "metadata": {
        "id": "H8-HcaOwWeTE",
        "colab": {
          "base_uri": "https://localhost:8080/"
        },
        "outputId": "42dfb8df-62aa-450c-e114-acfebf8afe58"
      },
      "execution_count": null,
      "outputs": [
        {
          "output_type": "stream",
          "name": "stdout",
          "text": [
            "    age workclass  fnlwgt  education  educational-num      marital-status  \\\n",
            "1    38   Private   89814    HS-grad                9  Married-civ-spouse   \n",
            "14   48   Private  279724    HS-grad                9  Married-civ-spouse   \n",
            "15   43   Private  346189    Masters               14  Married-civ-spouse   \n",
            "19   40   Private   85019  Doctorate               16  Married-civ-spouse   \n",
            "20   34   Private  107914  Bachelors               13  Married-civ-spouse   \n",
            "\n",
            "           occupation relationship                race gender  capital-gain  \\\n",
            "1     Farming-fishing      Husband               White   Male             0   \n",
            "14  Machine-op-inspct      Husband               White   Male          3103   \n",
            "15    Exec-managerial      Husband               White   Male             0   \n",
            "19     Prof-specialty      Husband  Asian-Pac-Islander   Male             0   \n",
            "20       Tech-support      Husband               White   Male             0   \n",
            "\n",
            "    capital-loss  hours-per-week native-country income  \n",
            "1              0              50  United-States  <=50K  \n",
            "14             0              48  United-States   >50K  \n",
            "15             0              50  United-States   >50K  \n",
            "19             0              45              ?   >50K  \n",
            "20             0              47  United-States   >50K  \n"
          ]
        }
      ]
    },
    {
      "cell_type": "markdown",
      "source": [
        "Calculate the median income by education level and gender."
      ],
      "metadata": {
        "id": "UNXEa2PdWnrx"
      }
    },
    {
      "cell_type": "code",
      "source": [
        "import pandas as pd\n",
        "\n",
        "df = pd.read_csv('/content/adult.csv')\n",
        "\n",
        "median_income_by_education_gender = df.groupby(['education', 'gender'])['income'].apply(lambda x: x.str.strip().map({'<=50K': 0, '>50K': 1}).median())\n",
        "\n",
        "print(median_income_by_education_gender)\n"
      ],
      "metadata": {
        "id": "OOwioDK6WwlN",
        "colab": {
          "base_uri": "https://localhost:8080/"
        },
        "outputId": "26088845-e533-49bf-b76a-61615b753670"
      },
      "execution_count": null,
      "outputs": [
        {
          "output_type": "stream",
          "name": "stdout",
          "text": [
            "education     gender\n",
            "10th          Female    0.0\n",
            "              Male      0.0\n",
            "11th          Female    0.0\n",
            "              Male      0.0\n",
            "12th          Female    0.0\n",
            "              Male      0.0\n",
            "1st-4th       Female    0.0\n",
            "              Male      0.0\n",
            "5th-6th       Female    0.0\n",
            "              Male      0.0\n",
            "7th-8th       Female    0.0\n",
            "              Male      0.0\n",
            "9th           Female    0.0\n",
            "              Male      0.0\n",
            "Assoc-acdm    Female    0.0\n",
            "              Male      0.0\n",
            "Assoc-voc     Female    0.0\n",
            "              Male      0.0\n",
            "Bachelors     Female    0.0\n",
            "              Male      1.0\n",
            "Doctorate     Female    1.0\n",
            "              Male      1.0\n",
            "HS-grad       Female    0.0\n",
            "              Male      0.0\n",
            "Masters       Female    0.0\n",
            "              Male      1.0\n",
            "Preschool     Female    0.0\n",
            "              Male      0.0\n",
            "Prof-school   Female    0.0\n",
            "              Male      1.0\n",
            "Some-college  Female    0.0\n",
            "              Male      0.0\n",
            "Name: income, dtype: float64\n"
          ]
        }
      ]
    },
    {
      "cell_type": "markdown",
      "source": [
        "Find the top 3 occupations with the highest average capital-gain."
      ],
      "metadata": {
        "id": "gWX7xURdWymB"
      }
    },
    {
      "cell_type": "code",
      "source": [
        "import pandas as pd\n",
        "\n",
        "df = pd.read_csv('/content/adult.csv')\n",
        "\n",
        "top_occupations = df.groupby('occupation')['capital-gain'].mean().nlargest(3)\n",
        "\n",
        "print(top_occupations)\n"
      ],
      "metadata": {
        "id": "r0KetkkoXAeD",
        "colab": {
          "base_uri": "https://localhost:8080/"
        },
        "outputId": "efacda50-9831-40bb-e950-c3212e0c15c8"
      },
      "execution_count": null,
      "outputs": [
        {
          "output_type": "stream",
          "name": "stdout",
          "text": [
            "occupation\n",
            "Prof-specialty     2745.918017\n",
            "Exec-managerial    2277.755504\n",
            "Sales              1266.898256\n",
            "Name: capital-gain, dtype: float64\n"
          ]
        }
      ]
    },
    {
      "cell_type": "markdown",
      "source": [
        "Filter the dataset to include individuals who are 'Married-civ-spouse' and have an income >50K."
      ],
      "metadata": {
        "id": "7A9gkvQsXGO_"
      }
    },
    {
      "cell_type": "code",
      "source": [
        "import pandas as pd\n",
        "\n",
        "df = pd.read_csv('/content/adult.csv')\n",
        "\n",
        "filtered_df = df[(df['marital-status'] == 'Married-civ-spouse') & (df['income'].str.strip() == '>50K')]\n",
        "\n",
        "print(filtered_df.head())\n"
      ],
      "metadata": {
        "id": "x97bC-MPXHGP",
        "colab": {
          "base_uri": "https://localhost:8080/"
        },
        "outputId": "167ed282-4ae2-4fa1-d0d9-54b7b60e3824"
      },
      "execution_count": null,
      "outputs": [
        {
          "output_type": "stream",
          "name": "stdout",
          "text": [
            "    age         workclass  fnlwgt     education  educational-num  \\\n",
            "2    28         Local-gov  336951    Assoc-acdm               12   \n",
            "3    44           Private  160323  Some-college               10   \n",
            "7    63  Self-emp-not-inc  104626   Prof-school               15   \n",
            "10   65           Private  184454       HS-grad                9   \n",
            "14   48           Private  279724       HS-grad                9   \n",
            "\n",
            "        marital-status         occupation relationship   race gender  \\\n",
            "2   Married-civ-spouse    Protective-serv      Husband  White   Male   \n",
            "3   Married-civ-spouse  Machine-op-inspct      Husband  Black   Male   \n",
            "7   Married-civ-spouse     Prof-specialty      Husband  White   Male   \n",
            "10  Married-civ-spouse  Machine-op-inspct      Husband  White   Male   \n",
            "14  Married-civ-spouse  Machine-op-inspct      Husband  White   Male   \n",
            "\n",
            "    capital-gain  capital-loss  hours-per-week native-country income  \n",
            "2              0             0              40  United-States   >50K  \n",
            "3           7688             0              40  United-States   >50K  \n",
            "7           3103             0              32  United-States   >50K  \n",
            "10          6418             0              40  United-States   >50K  \n",
            "14          3103             0              48  United-States   >50K  \n"
          ]
        }
      ]
    },
    {
      "cell_type": "code",
      "source": [],
      "metadata": {
        "id": "6L-3NprAi67u"
      },
      "execution_count": null,
      "outputs": []
    }
  ]
}