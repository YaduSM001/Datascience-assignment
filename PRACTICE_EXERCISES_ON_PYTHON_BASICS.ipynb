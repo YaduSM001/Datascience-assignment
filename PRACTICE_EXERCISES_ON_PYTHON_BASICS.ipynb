{
  "nbformat": 4,
  "nbformat_minor": 0,
  "metadata": {
    "colab": {
      "provenance": [],
      "authorship_tag": "ABX9TyOTU1zBADmCf7y91ZOHhlWp",
      "include_colab_link": true
    },
    "kernelspec": {
      "name": "python3",
      "display_name": "Python 3"
    },
    "language_info": {
      "name": "python"
    }
  },
  "cells": [
    {
      "cell_type": "markdown",
      "metadata": {
        "id": "view-in-github",
        "colab_type": "text"
      },
      "source": [
        "<a href=\"https://colab.research.google.com/github/YaduSM001/Datascience-assignment/blob/main/PRACTICE_EXERCISES_ON_PYTHON_BASICS.ipynb\" target=\"_parent\"><img src=\"https://colab.research.google.com/assets/colab-badge.svg\" alt=\"Open In Colab\"/></a>"
      ]
    },
    {
      "cell_type": "markdown",
      "source": [
        "# ***PRACTICE EXERCISES ON PYTHON BASICS***"
      ],
      "metadata": {
        "id": "tkN8cPG-xb8m"
      }
    },
    {
      "cell_type": "markdown",
      "source": [
        "***1. Write a Python program which accepts the radius of a circle from the user and compute the area. Sample input: Enter the radius: 3 Sample output: Area of Circle is 28.59999999999***\n"
      ],
      "metadata": {
        "id": "16v1dTJ-ugcl"
      }
    },
    {
      "cell_type": "code",
      "source": [
        "import math\n",
        "\n",
        "radius = float(input(\"Enter the radius: \"))\n",
        "\n",
        "area = math.pi * radius ** 2\n",
        "print(f\"Area of Circle is {area}\")"
      ],
      "metadata": {
        "colab": {
          "base_uri": "https://localhost:8080/"
        },
        "id": "S8z827fouxvI",
        "outputId": "580d2677-6166-4b02-8b86-bfaae2bc9dc4"
      },
      "execution_count": 1,
      "outputs": [
        {
          "output_type": "stream",
          "name": "stdout",
          "text": [
            "Enter the radius: 3\n",
            "Area of Circle is 28.274333882308138\n"
          ]
        }
      ]
    },
    {
      "cell_type": "markdown",
      "source": [
        "***2. Write a Python Program to accept the details of a student like name, roll number and mark and display it. Sample input: Enter the name: Anisha Enter the roll number: 21 Enter the mark: 78 Sample output: Name: Anisha Roll No: 21 Mark: 78***"
      ],
      "metadata": {
        "id": "NbjSFXRPvF6l"
      }
    },
    {
      "cell_type": "code",
      "source": [
        "name = input(\"Enter the name: \")\n",
        "roll_number = input(\"Enter the roll number: \")\n",
        "mark = input(\"Enter the mark: \")\n",
        "\n",
        "print(\"\\nStudent Details:\")\n",
        "print(f\"Name: {name}\")\n",
        "print(f\"Roll No: {roll_number}\")\n",
        "print(f\"Mark: {mark}\")\n"
      ],
      "metadata": {
        "colab": {
          "base_uri": "https://localhost:8080/"
        },
        "id": "nVx1f4vJu-dW",
        "outputId": "af19e8f1-c6e5-4845-deb0-81b07de9408c"
      },
      "execution_count": 2,
      "outputs": [
        {
          "output_type": "stream",
          "name": "stdout",
          "text": [
            "Enter the name: Anisha\n",
            "Enter the roll number: 21\n",
            "Enter the mark: 78\n",
            "\n",
            "Student Details:\n",
            "Name: Anisha\n",
            "Roll No: 21\n",
            "Mark: 78\n"
          ]
        }
      ]
    },
    {
      "cell_type": "markdown",
      "source": [
        "***3. Write a Python program to get the largest number from a list. Sample input: 12, 3, 47, 10 Sample output: 47 is the largest number.***"
      ],
      "metadata": {
        "id": "hkf20IBOvZjN"
      }
    },
    {
      "cell_type": "code",
      "source": [
        "numbers = [12, 3, 47, 10]\n",
        "largest_number = max(numbers)\n",
        "\n",
        "print(f\"{largest_number} is the largest number.\")"
      ],
      "metadata": {
        "colab": {
          "base_uri": "https://localhost:8080/"
        },
        "id": "f9J9OClnvOuW",
        "outputId": "2cadc997-ca3a-4e9c-f651-bee8b1777cdd"
      },
      "execution_count": 3,
      "outputs": [
        {
          "output_type": "stream",
          "name": "stdout",
          "text": [
            "47 is the largest number.\n"
          ]
        }
      ]
    },
    {
      "cell_type": "markdown",
      "source": [
        "***4. Given a range of first 10 numbers, write a Python program to iterate from start number to the end number and print the sum of the current number and previous number. Sample input: 1….10 Sample output: Current Number 1 Previous Number 0 Sum: 1 Current Number 2 Previous Number 1 Sum: 3 Current Number 3 Previous Number 2 Sum: 5… Current Number 10 Previous Number 9 Sum: 198***"
      ],
      "metadata": {
        "id": "zishR755vla9"
      }
    },
    {
      "cell_type": "code",
      "source": [
        "start_number = 1\n",
        "end_number = 10\n",
        "\n",
        "previous_number = 0\n",
        "\n",
        "for current_number in range(start_number, end_number + 1):\n",
        "\n",
        "    sum_of_numbers = current_number + previous_number\n",
        "\n",
        "    print(f\"Current Number {current_number} Previous Number {previous_number} Sum: {sum_of_numbers}\")\n",
        "\n",
        "    previous_number = current_number\n"
      ],
      "metadata": {
        "colab": {
          "base_uri": "https://localhost:8080/"
        },
        "id": "WF6LMAanvkNX",
        "outputId": "e02f13d9-42f7-42eb-e666-304a94c5acb5"
      },
      "execution_count": 4,
      "outputs": [
        {
          "output_type": "stream",
          "name": "stdout",
          "text": [
            "Current Number 1 Previous Number 0 Sum: 1\n",
            "Current Number 2 Previous Number 1 Sum: 3\n",
            "Current Number 3 Previous Number 2 Sum: 5\n",
            "Current Number 4 Previous Number 3 Sum: 7\n",
            "Current Number 5 Previous Number 4 Sum: 9\n",
            "Current Number 6 Previous Number 5 Sum: 11\n",
            "Current Number 7 Previous Number 6 Sum: 13\n",
            "Current Number 8 Previous Number 7 Sum: 15\n",
            "Current Number 9 Previous Number 8 Sum: 17\n",
            "Current Number 10 Previous Number 9 Sum: 19\n"
          ]
        }
      ]
    },
    {
      "cell_type": "markdown",
      "source": [
        "***5. Write a Python program to print only those numbers which are divisible of 5. Sample input: 10, 20,33,46,55 Sample output: 10, 20, 55***"
      ],
      "metadata": {
        "id": "jX9a8IhBvyHW"
      }
    },
    {
      "cell_type": "code",
      "source": [
        "numbers = [10, 20, 33, 46, 55]\n",
        "\n",
        "for number in numbers:\n",
        "    if number % 5 == 0:\n",
        "        print(number)\n"
      ],
      "metadata": {
        "colab": {
          "base_uri": "https://localhost:8080/"
        },
        "id": "g_HsruimvxE1",
        "outputId": "dc9e50f4-d9a5-4139-c68a-e574be7fb593"
      },
      "execution_count": 6,
      "outputs": [
        {
          "output_type": "stream",
          "name": "stdout",
          "text": [
            "10\n",
            "20\n",
            "55\n"
          ]
        }
      ]
    },
    {
      "cell_type": "markdown",
      "source": [
        "***6. Write a Python program to check whether a number is prime or not. Sample input: Enter the number: 3 Sample output: 3 is a prime number.***"
      ],
      "metadata": {
        "id": "OqzGYv7_v6qV"
      }
    },
    {
      "cell_type": "code",
      "source": [
        "def is_prime(number):\n",
        "    if number <= 1:\n",
        "        return False\n",
        "    if number == 2 or number == 3:\n",
        "        return True\n",
        "    if number % 2 == 0 or number % 3 == 0:\n",
        "        return False\n",
        "    i = 5\n",
        "    while i * i <= number:\n",
        "        if number % i == 0 or number % (i + 2) == 0:\n",
        "            return False\n",
        "        i += 6\n",
        "    return True\n",
        "\n",
        "\n",
        "number = int(input(\"Enter the number: \"))\n",
        "\n",
        "if is_prime(number):\n",
        "    print(f\"{number} is a prime number.\")\n",
        "else:\n",
        "    print(f\"{number} is not a prime number.\")"
      ],
      "metadata": {
        "colab": {
          "base_uri": "https://localhost:8080/"
        },
        "id": "qE8E1GFdv5t-",
        "outputId": "79317dd3-2afd-4366-a7a1-6a7c95b8e694"
      },
      "execution_count": 7,
      "outputs": [
        {
          "output_type": "stream",
          "name": "stdout",
          "text": [
            "Enter the number: 3\n",
            "3 is a prime number.\n"
          ]
        }
      ]
    },
    {
      "cell_type": "markdown",
      "source": [
        "***7. Write a Python program to reverse a list using for loop. Sample input: 10,40,30,70 Sample output: 70,30,40,10***"
      ],
      "metadata": {
        "id": "0dVJCoFjwGX8"
      }
    },
    {
      "cell_type": "code",
      "source": [
        "def reverse_list(input_list):\n",
        "    reversed_list = []\n",
        "    for i in range(len(input_list) - 1, -1, -1):\n",
        "        reversed_list.append(input_list[i])\n",
        "    return reversed_list\n",
        "\n",
        "\n",
        "input_str = input(\"Enter the list elements separated by commas: \")\n",
        "input_list = [int(item) for item in input_str.split(',')]\n",
        "\n",
        "reversed_list = reverse_list(input_list)\n",
        "\n",
        "print(\"Reversed list:\", \",\".join(map(str, reversed_list)))"
      ],
      "metadata": {
        "colab": {
          "base_uri": "https://localhost:8080/"
        },
        "id": "tmaLrxMxwD3W",
        "outputId": "b4c67239-23cd-4d40-ee9e-8a9088eb0de3"
      },
      "execution_count": 9,
      "outputs": [
        {
          "output_type": "stream",
          "name": "stdout",
          "text": [
            "Enter the list elements separated by commas: 10,40,30,70\n",
            "Reversed list: 70,30,40,10\n"
          ]
        }
      ]
    },
    {
      "cell_type": "markdown",
      "source": [
        "***8. Write a Python program to print the following pattern.***"
      ],
      "metadata": {
        "id": "yG8kZEkuwY5N"
      }
    },
    {
      "cell_type": "code",
      "source": [
        "def print_pattern(rows):\n",
        "    for i in range(1, rows + 1):\n",
        "        print('*' * i)\n",
        "\n",
        "rows = int(input(\"Enter the number of rows: \"))\n",
        "print_pattern(rows)"
      ],
      "metadata": {
        "colab": {
          "base_uri": "https://localhost:8080/"
        },
        "id": "z99szECywMMF",
        "outputId": "78828d18-b103-4f1f-a8ba-36033003a6da"
      },
      "execution_count": 11,
      "outputs": [
        {
          "output_type": "stream",
          "name": "stdout",
          "text": [
            "Enter the number of rows: 4\n",
            "*\n",
            "**\n",
            "***\n",
            "****\n"
          ]
        }
      ]
    },
    {
      "cell_type": "markdown",
      "source": [
        "***9. Write a Python program to find the maximum of three numbers Sample input: 34,12,7 Sample output: 34***"
      ],
      "metadata": {
        "id": "JxiA1pgmwta1"
      }
    },
    {
      "cell_type": "code",
      "source": [
        "def find_maximum(a, b, c):\n",
        "    if a >= b and a >= c:\n",
        "        return a\n",
        "    elif b >= a and b >= c:\n",
        "        return b\n",
        "    else:\n",
        "        return c\n",
        "\n",
        "a, b, c = map(int, input(\"Enter three numbers separated by commas: \").split(','))\n",
        "\n",
        "max_number = find_maximum(a, b, c)\n",
        "print(f\"The maximum number is: {max_number}\")"
      ],
      "metadata": {
        "colab": {
          "base_uri": "https://localhost:8080/"
        },
        "id": "f6b6tJNwwdMH",
        "outputId": "31d85e4c-a70f-4691-e923-16afa0a41854"
      },
      "execution_count": 12,
      "outputs": [
        {
          "output_type": "stream",
          "name": "stdout",
          "text": [
            "Enter three numbers separated by commas: 34,12,7\n",
            "The maximum number is: 34\n"
          ]
        }
      ]
    },
    {
      "cell_type": "markdown",
      "source": [
        "***10. Write a Python program to construct the following pattern, using a\n",
        "nested for loop.***"
      ],
      "metadata": {
        "id": "BresEIWFxDPe"
      }
    },
    {
      "cell_type": "code",
      "source": [
        "def print_pattern(n):\n",
        "\n",
        "    for i in range(1, n + 1):\n",
        "        print('*' * i)\n",
        "\n",
        "    for i in range(n - 1, 0, -1):\n",
        "        print('*' * i)\n",
        "\n",
        "n = int(input(\"Enter the number of rows: \"))\n",
        "\n",
        "print_pattern(n)"
      ],
      "metadata": {
        "colab": {
          "base_uri": "https://localhost:8080/"
        },
        "id": "oDXr5pHDw8rd",
        "outputId": "3dc15511-de1b-4a93-d6f9-a3dd8b762385"
      },
      "execution_count": 13,
      "outputs": [
        {
          "output_type": "stream",
          "name": "stdout",
          "text": [
            "Enter the number of rows: 5\n",
            "*\n",
            "**\n",
            "***\n",
            "****\n",
            "*****\n",
            "****\n",
            "***\n",
            "**\n",
            "*\n"
          ]
        }
      ]
    },
    {
      "cell_type": "code",
      "source": [],
      "metadata": {
        "id": "0a7VqsUYxNMi"
      },
      "execution_count": null,
      "outputs": []
    }
  ]
}