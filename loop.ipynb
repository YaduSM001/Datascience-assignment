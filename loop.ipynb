{
  "nbformat": 4,
  "nbformat_minor": 0,
  "metadata": {
    "colab": {
      "provenance": [],
      "authorship_tag": "ABX9TyNkxI7dxlBRhZI4SOIuasW+",
      "include_colab_link": true
    },
    "kernelspec": {
      "name": "python3",
      "display_name": "Python 3"
    },
    "language_info": {
      "name": "python"
    }
  },
  "cells": [
    {
      "cell_type": "markdown",
      "metadata": {
        "id": "view-in-github",
        "colab_type": "text"
      },
      "source": [
        "<a href=\"https://colab.research.google.com/github/YaduSM001/Datascience-assignment/blob/main/loop.ipynb\" target=\"_parent\"><img src=\"https://colab.research.google.com/assets/colab-badge.svg\" alt=\"Open In Colab\"/></a>"
      ]
    },
    {
      "cell_type": "markdown",
      "source": [
        "# ***Daily Activity***"
      ],
      "metadata": {
        "id": "yjX2BYGJ4KAy"
      }
    },
    {
      "cell_type": "markdown",
      "source": [
        " ***1. Take input of age of 3 people by user and determine oldest and\n",
        "youngest among them.***"
      ],
      "metadata": {
        "id": "g-T4pNSg4Wda"
      }
    },
    {
      "cell_type": "code",
      "execution_count": 1,
      "metadata": {
        "colab": {
          "base_uri": "https://localhost:8080/"
        },
        "id": "jjSCtE_q3pqn",
        "outputId": "aaefb8f9-d30f-4190-c99f-bafba14e3476"
      },
      "outputs": [
        {
          "output_type": "stream",
          "name": "stdout",
          "text": [
            "Enter age of person 1: 21\n",
            "Enter age of person 2: 54\n",
            "Enter age of person 3: 49\n",
            "The oldest is 54 years old.\n",
            "The youngest is 21 years old.\n"
          ]
        }
      ],
      "source": [
        "ages = [int(input(f\"Enter age of person {i+1}: \")) for i in range(3)]\n",
        "oldest = max(ages)\n",
        "youngest = min(ages)\n",
        "print(f\"The oldest is {oldest} years old.\")\n",
        "print(f\"The youngest is {youngest} years old.\")\n"
      ]
    },
    {
      "cell_type": "markdown",
      "source": [
        "***2. Write a program that asks the user for their exam score and\n",
        "calculates their grade based on the following conditions:\n",
        "a. A score of 90 or above is an A.\n",
        "b. A score between 80 and 89 is a B.\n",
        "c. A score between 70 and 79 is a C.\n",
        "d. A score below 70 is an F.***"
      ],
      "metadata": {
        "id": "Xq9Iio1H402T"
      }
    },
    {
      "cell_type": "code",
      "source": [
        "score = int(input(\"Enter your exam score: \"))\n",
        "if score >= 90:\n",
        "    grade = 'A'\n",
        "elif score >= 80:\n",
        "    grade = 'B'\n",
        "elif score >= 70:\n",
        "    grade = 'C'\n",
        "else:\n",
        "    grade = 'F'\n",
        "print(f\"Your grade is {grade}.\")\n",
        "\n"
      ],
      "metadata": {
        "colab": {
          "base_uri": "https://localhost:8080/"
        },
        "id": "gBED7RYN47_K",
        "outputId": "244c82d3-20ed-4655-a8ea-bfb687a77b3d"
      },
      "execution_count": 2,
      "outputs": [
        {
          "output_type": "stream",
          "name": "stdout",
          "text": [
            "Enter your exam score: 94\n",
            "Your grade is A.\n"
          ]
        }
      ]
    },
    {
      "cell_type": "markdown",
      "source": [
        "***3. Create a program that asks the user for a list of grocery items they\n",
        "need to buy and organizes the list alphabetically.***"
      ],
      "metadata": {
        "id": "e4yruzHF5M3r"
      }
    },
    {
      "cell_type": "code",
      "source": [
        "groceries = input(\"Enter the grocery items separated by commas: \").split(',')\n",
        "groceries = [item.strip() for item in groceries]\n",
        "groceries.sort()\n",
        "print(\"Your sorted grocery list is:\")\n",
        "for item in groceries:\n",
        "    print(item)\n"
      ],
      "metadata": {
        "colab": {
          "base_uri": "https://localhost:8080/"
        },
        "id": "5WyyIoz45GUE",
        "outputId": "eb3cd8a3-d752-4bf6-e926-e4079f8e4e58"
      },
      "execution_count": 3,
      "outputs": [
        {
          "output_type": "stream",
          "name": "stdout",
          "text": [
            "Enter the grocery items separated by commas: scale,pen,eraser,book,file\n",
            "Your sorted grocery list is:\n",
            "book\n",
            "eraser\n",
            "file\n",
            "pen\n",
            "scale\n"
          ]
        }
      ]
    },
    {
      "cell_type": "markdown",
      "source": [
        "***4. Write a program that asks the user for an email address and\n",
        "checks if it is valid (contains an \"@\" symbol and a valid domain).***"
      ],
      "metadata": {
        "id": "76JGbd6q5j6D"
      }
    },
    {
      "cell_type": "code",
      "source": [
        "import re\n",
        "\n",
        "email = input(\"Enter your email address: \")\n",
        "pattern = r'^[\\w\\.-]+@[\\w\\.-]+\\.\\w+$'\n",
        "\n",
        "if re.match(pattern, email):\n",
        "    print(\"The email address is valid.\")\n",
        "else:\n",
        "    print(\"The email address is invalid.\")\n"
      ],
      "metadata": {
        "colab": {
          "base_uri": "https://localhost:8080/"
        },
        "id": "lam8HHoW5TOD",
        "outputId": "697a27a7-0c6c-4011-a47b-acfa32df62b7"
      },
      "execution_count": 4,
      "outputs": [
        {
          "output_type": "stream",
          "name": "stdout",
          "text": [
            "Enter your email address: atgyugmail.com\n",
            "The email address is invalid.\n"
          ]
        }
      ]
    },
    {
      "cell_type": "markdown",
      "source": [
        "***5. Create a program that asks the user for the number of days they\n",
        "have delayed returning a library book. If the delay is less than or\n",
        "equal to 7 days, there is no fine. If the delay is between 8 and 30\n",
        "days, apply a fine of 2 rupees per day. If the delay is more than\n",
        "30 days, apply a fine of 5 rupees per day. Print the total fine\n",
        "amount***"
      ],
      "metadata": {
        "id": "cao7GQkz52es"
      }
    },
    {
      "cell_type": "code",
      "source": [
        "days_delayed = int(input(\"Enter the number of days you have delayed returning the book: \"))\n",
        "\n",
        "if days_delayed <= 7:\n",
        "    fine = 0\n",
        "elif days_delayed <= 30:\n",
        "    fine = 2 * days_delayed\n",
        "else:\n",
        "    fine = 5 * days_delayed\n",
        "\n",
        "print(f\"The total fine is {fine} rupees.\")\n"
      ],
      "metadata": {
        "colab": {
          "base_uri": "https://localhost:8080/"
        },
        "id": "-qht8sy75ruu",
        "outputId": "2b922187-2a4c-45ce-9c9e-69361bac143b"
      },
      "execution_count": 5,
      "outputs": [
        {
          "output_type": "stream",
          "name": "stdout",
          "text": [
            "Enter the number of days you have delayed returning the book: 548\n",
            "The total fine is 2740 rupees.\n"
          ]
        }
      ]
    },
    {
      "cell_type": "markdown",
      "source": [
        "***6. Write a program that checks if a given character is a vowel. Use\n",
        "the in operator to check if the character is present in a string of\n",
        "vowels (\"aeiou\").***"
      ],
      "metadata": {
        "id": "gN8NILCc6EdC"
      }
    },
    {
      "cell_type": "code",
      "source": [
        "char = input(\"Enter a character: \").lower()\n",
        "\n",
        "if char in 'aeiou':\n",
        "    print(f\"{char} is a vowel.\")\n",
        "else:\n",
        "    print(f\"{char} is not a vowel.\")\n"
      ],
      "metadata": {
        "colab": {
          "base_uri": "https://localhost:8080/"
        },
        "id": "dSTnePdf58fs",
        "outputId": "4b3a306e-0e8f-4e5e-9c14-861fe27f81b8"
      },
      "execution_count": 6,
      "outputs": [
        {
          "output_type": "stream",
          "name": "stdout",
          "text": [
            "Enter a character: yadusm\n",
            "yadusm is not a vowel.\n"
          ]
        }
      ]
    },
    {
      "cell_type": "markdown",
      "source": [
        "***7. Implement a program that calculates the factorial of a number\n",
        "using a loop.***"
      ],
      "metadata": {
        "id": "Je-KvMZO6TiC"
      }
    },
    {
      "cell_type": "code",
      "source": [
        "num = int(input(\"Enter a number: \"))\n",
        "factorial = 1\n",
        "\n",
        "for i in range(2, num + 1):\n",
        "    factorial *= i\n",
        "\n",
        "print(f\"The factorial of {num} is {factorial}.\")\n"
      ],
      "metadata": {
        "colab": {
          "base_uri": "https://localhost:8080/"
        },
        "id": "HSSh8tuV6HYj",
        "outputId": "63a78692-9f91-49f0-e858-97d20009a40f"
      },
      "execution_count": 7,
      "outputs": [
        {
          "output_type": "stream",
          "name": "stdout",
          "text": [
            "Enter a number: 5\n",
            "The factorial of 5 is 120.\n"
          ]
        }
      ]
    },
    {
      "cell_type": "markdown",
      "source": [
        "***8. Generate the Fibonacci sequence (0, 1, 1, 2, 3, ...) up to a certain\n",
        "limit using a loop.***"
      ],
      "metadata": {
        "id": "nRmq-Zny6gIC"
      }
    },
    {
      "cell_type": "code",
      "source": [
        "limit = int(input(\"Enter the limit: \"))\n",
        "a, b = 0, 1\n",
        "\n",
        "while a <= limit:\n",
        "    print(a, end=\" \")\n",
        "    a, b = b, a + b\n"
      ],
      "metadata": {
        "colab": {
          "base_uri": "https://localhost:8080/"
        },
        "id": "36yvF1KT6W5a",
        "outputId": "5e9cbc06-a466-4667-de7e-35651d42c444"
      },
      "execution_count": 8,
      "outputs": [
        {
          "output_type": "stream",
          "name": "stdout",
          "text": [
            "Enter the limit: 6\n",
            "0 1 1 2 3 5 "
          ]
        }
      ]
    },
    {
      "cell_type": "markdown",
      "source": [
        "***9. Create a number guessing game where the computer generates a\n",
        "random number and the user has to guess it within a certain\n",
        "number of attempts using a loop.***"
      ],
      "metadata": {
        "id": "WWxpeU976p9q"
      }
    },
    {
      "cell_type": "code",
      "source": [
        "import random\n",
        "\n",
        "number = random.randint(1, 100)\n",
        "attempts = int(input(\"Enter the number of attempts you want: \"))\n",
        "\n",
        "for i in range(attempts):\n",
        "    guess = int(input(\"Guess the number: \"))\n",
        "    if guess == number:\n",
        "        print(\"Congratulations! You guessed the correct number.\")\n",
        "        break\n",
        "    elif guess < number:\n",
        "        print(\"Too low!\")\n",
        "    else:\n",
        "        print(\"Too high!\")\n",
        "\n",
        "if guess != number:\n",
        "    print(f\"Sorry, you've used all attempts. The correct number was {number}.\")\n"
      ],
      "metadata": {
        "colab": {
          "base_uri": "https://localhost:8080/"
        },
        "id": "PxsIgQKF6jIT",
        "outputId": "82ba063c-4a07-4585-f762-247c4ec9260e"
      },
      "execution_count": 9,
      "outputs": [
        {
          "output_type": "stream",
          "name": "stdout",
          "text": [
            "Enter the number of attempts you want: 8\n",
            "Guess the number: 4\n",
            "Too low!\n",
            "Guess the number: 2\n",
            "Too low!\n",
            "Guess the number: 6\n",
            "Too low!\n",
            "Guess the number: 65\n",
            "Too high!\n",
            "Guess the number: 50\n",
            "Too low!\n",
            "Guess the number: 55\n",
            "Too low!\n",
            "Guess the number: 60\n",
            "Too high!\n",
            "Guess the number: 57\n",
            "Too low!\n",
            "Sorry, you've used all attempts. The correct number was 58.\n"
          ]
        }
      ]
    },
    {
      "cell_type": "markdown",
      "source": [
        "***10. Write a menu driven calculator with following menu:\n",
        "a. Addition\n",
        "b. Subtraction\n",
        "c. Division\n",
        "d. Multiplication\n",
        "e. Exit***"
      ],
      "metadata": {
        "id": "BfAoyB_q7JmS"
      }
    },
    {
      "cell_type": "code",
      "source": [
        "def add(a, b):\n",
        "    return a + b\n",
        "\n",
        "def subtract(a, b):\n",
        "    return a - b\n",
        "\n",
        "def multiply(a, b):\n",
        "    return a * b\n",
        "\n",
        "def divide(a, b):\n",
        "    if b != 0:\n",
        "        return a / b\n",
        "    else:\n",
        "        return \"Cannot divide by zero\"\n",
        "\n",
        "while True:\n",
        "    print(\"\\nMenu:\")\n",
        "    print(\"a. Addition\")\n",
        "    print(\"b. Subtraction\")\n",
        "    print(\"c. Division\")\n",
        "    print(\"d. Multiplication\")\n",
        "    print(\"e. Exit\")\n",
        "\n",
        "    choice = input(\"Choose an operation: \")\n",
        "\n",
        "    if choice == 'e':\n",
        "        print(\"Exiting the calculator.\")\n",
        "        break\n",
        "\n",
        "    if choice in ['a', 'b', 'c', 'd']:\n",
        "        num1 = float(input(\"Enter first number: \"))\n",
        "        num2 = float(input(\"Enter second number: \"))\n",
        "\n",
        "        if choice == 'a':\n",
        "            print(f\"The result is: {add(num1, num2)}\")\n",
        "        elif choice == 'b':\n",
        "            print(f\"The result is: {subtract(num1, num2)}\")\n",
        "        elif choice == 'c':\n",
        "            print(f\"The result is: {divide(num1, num2)}\")\n",
        "        elif choice == 'd':\n",
        "            print(f\"The result is: {multiply(num1, num2)}\")\n",
        "    else:\n",
        "        print(\"Invalid choice, please select a valid option.\")\n"
      ],
      "metadata": {
        "colab": {
          "base_uri": "https://localhost:8080/"
        },
        "id": "1LwfEj-W6tsM",
        "outputId": "03b71bc3-8cc8-4f43-f3ff-272544e84c7f"
      },
      "execution_count": 10,
      "outputs": [
        {
          "output_type": "stream",
          "name": "stdout",
          "text": [
            "\n",
            "Menu:\n",
            "a. Addition\n",
            "b. Subtraction\n",
            "c. Division\n",
            "d. Multiplication\n",
            "e. Exit\n",
            "Choose an operation: a\n",
            "Enter first number: 56\n",
            "Enter second number: 249867\n",
            "The result is: 249923.0\n",
            "\n",
            "Menu:\n",
            "a. Addition\n",
            "b. Subtraction\n",
            "c. Division\n",
            "d. Multiplication\n",
            "e. Exit\n",
            "Choose an operation: d\n",
            "Enter first number: 5568\n",
            "Enter second number: 88\n",
            "The result is: 489984.0\n",
            "\n",
            "Menu:\n",
            "a. Addition\n",
            "b. Subtraction\n",
            "c. Division\n",
            "d. Multiplication\n",
            "e. Exit\n",
            "Choose an operation: e\n",
            "Exiting the calculator.\n"
          ]
        }
      ]
    }
  ]
}