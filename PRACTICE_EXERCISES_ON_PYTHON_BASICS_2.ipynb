{
  "nbformat": 4,
  "nbformat_minor": 0,
  "metadata": {
    "colab": {
      "provenance": [],
      "authorship_tag": "ABX9TyNIJL7NpCix8uTV08xDpQST",
      "include_colab_link": true
    },
    "kernelspec": {
      "name": "python3",
      "display_name": "Python 3"
    },
    "language_info": {
      "name": "python"
    }
  },
  "cells": [
    {
      "cell_type": "markdown",
      "metadata": {
        "id": "view-in-github",
        "colab_type": "text"
      },
      "source": [
        "<a href=\"https://colab.research.google.com/github/YaduSM001/Datascience-assignment/blob/main/PRACTICE_EXERCISES_ON_PYTHON_BASICS_2.ipynb\" target=\"_parent\"><img src=\"https://colab.research.google.com/assets/colab-badge.svg\" alt=\"Open In Colab\"/></a>"
      ]
    },
    {
      "cell_type": "markdown",
      "source": [
        "#***PRACTICE EXERCISES ON PYTHON BASICS -2***"
      ],
      "metadata": {
        "id": "xgZAWr_5rYAO"
      }
    },
    {
      "cell_type": "markdown",
      "source": [
        "***1.Write a Python program to accept a string value from the user and display\n",
        "the count of each character in that string. Sample input: Enter a string\n",
        "value: assembly Sample output: a=1, s=2, e=1, m=1, b=1, l=1, y=1***"
      ],
      "metadata": {
        "id": "HdRfHxeZXvKf"
      }
    },
    {
      "cell_type": "code",
      "execution_count": null,
      "metadata": {
        "colab": {
          "base_uri": "https://localhost:8080/"
        },
        "id": "vbj6ZViKXBwj",
        "outputId": "b53b0d83-6ab9-4fd8-bee4-4942898f6528"
      },
      "outputs": [
        {
          "output_type": "stream",
          "name": "stdout",
          "text": [
            "Enter a string value: assembly\n",
            "a=1, s=2, e=1, m=1, b=1, l=1, y=1\n"
          ]
        }
      ],
      "source": [
        "def count_characters(input_string):\n",
        "\n",
        "    char_count = {}\n",
        "\n",
        "\n",
        "    for char in input_string:\n",
        "\n",
        "        if char in char_count:\n",
        "            char_count[char] += 1\n",
        "\n",
        "        else:\n",
        "            char_count[char] = 1\n",
        "\n",
        "\n",
        "    formatted_output = ', '.join(f'{char}={count}' for char, count in char_count.items())\n",
        "    return formatted_output\n",
        "\n",
        "\n",
        "user_input = input(\"Enter a string value: \")\n",
        "\n",
        "\n",
        "print(count_characters(user_input))\n"
      ]
    },
    {
      "cell_type": "markdown",
      "source": [
        "***2.Write a Python function to find the maximum of three numbers Sample\n",
        "input: 34,12,7 Sample output: 34***"
      ],
      "metadata": {
        "id": "Y1mpH3G9YGFY"
      }
    },
    {
      "cell_type": "code",
      "source": [
        "def find_maximum(a, b, c):\n",
        "\n",
        "    return max(a, b, c)\n",
        "\n",
        "\n",
        "num1 = 34\n",
        "num2 = 12\n",
        "num3 = 7\n",
        "\n",
        "max_number = find_maximum(num1, num2, num3)\n",
        "print(f\"The maximum of {num1}, {num2}, {num3} is: {max_number}\")\n"
      ],
      "metadata": {
        "colab": {
          "base_uri": "https://localhost:8080/"
        },
        "id": "yH2AyRQNYMh_",
        "outputId": "0dea4bda-36ca-4f10-9f86-56f4ff15673f"
      },
      "execution_count": null,
      "outputs": [
        {
          "output_type": "stream",
          "name": "stdout",
          "text": [
            "The maximum of 34, 12, 7 is: 34\n"
          ]
        }
      ]
    },
    {
      "cell_type": "markdown",
      "source": [
        "***3. Write a Python function called exponent(base,exp) that returns an\n",
        "integer value of base raises to the power of exp. Sample input: Enter the\n",
        "base: 2 Enter the exponent: 3 Sample output: 8***"
      ],
      "metadata": {
        "id": "cEOHeu3TYdVf"
      }
    },
    {
      "cell_type": "code",
      "source": [
        "def exponent(base, exp):\n",
        "\n",
        "    return base ** exp\n",
        "\n",
        "\n",
        "base = int(input(\"Enter the base: \"))\n",
        "exp = int(input(\"Enter the exponent: \"))\n",
        "\n",
        "\n",
        "result = exponent(base, exp)\n",
        "print(f\"{base} raised to the power of {exp} is: {result}\")\n"
      ],
      "metadata": {
        "colab": {
          "base_uri": "https://localhost:8080/"
        },
        "id": "xZbNsvmvYbfn",
        "outputId": "13d89f73-66a1-4bc0-b63a-4349b182ab10"
      },
      "execution_count": null,
      "outputs": [
        {
          "output_type": "stream",
          "name": "stdout",
          "text": [
            "Enter the base: 2\n",
            "Enter the exponent: 3\n",
            "2 raised to the power of 3 is: 8\n"
          ]
        }
      ]
    },
    {
      "cell_type": "markdown",
      "source": [
        "***4. Write a Python function that takes a positive integer and returns the sum\n",
        "of the cube of all the positive integers smaller than the specified number.\n",
        "Sample input: 4 Sample output: 36.***"
      ],
      "metadata": {
        "id": "TMuhi4u_ZDxZ"
      }
    },
    {
      "cell_type": "code",
      "source": [
        "def sum_of_cubes(n):\n",
        "\n",
        "    return sum(i**3 for i in range(1, n))\n",
        "\n",
        "\n",
        "number = int(input(\"Enter a positive integer: \"))\n",
        "\n",
        "\n",
        "result = sum_of_cubes(number)\n",
        "print(f\"The sum of the cubes of all positive integers smaller than {number} is: {result}\")\n"
      ],
      "metadata": {
        "colab": {
          "base_uri": "https://localhost:8080/"
        },
        "id": "EiAG1KxPY4RB",
        "outputId": "c9c34636-8956-42c5-c398-ef7be29fa2de"
      },
      "execution_count": null,
      "outputs": [
        {
          "output_type": "stream",
          "name": "stdout",
          "text": [
            "Enter a positive integer: 4\n",
            "The sum of the cubes of all positive integers smaller than 4 is: 36\n"
          ]
        }
      ]
    },
    {
      "cell_type": "markdown",
      "source": [
        "***5.Write a Python program which iterates from 1 to 10. For multiples of 2,\n",
        "print “Fizz” instead of the number and for the multiples of 5, print “Buzz”.\n",
        "For numbers which are multiples of both 2 and 5, print “FizzBuzz”.\n",
        "Sample input: numbers from 1 to 10 Sample output: 1 Fizz 3 Fizz Buzz\n",
        "Fizz 7 Fizz 9 FizzBuzz***"
      ],
      "metadata": {
        "id": "ExBi6w-_Z-E3"
      }
    },
    {
      "cell_type": "code",
      "source": [
        "def fizz_buzz():\n",
        "\n",
        "    for i in range(1, 11):\n",
        "\n",
        "        if i % 2 == 0 and i % 5 == 0:\n",
        "            print(\"FizzBuzz\", end=\" \")\n",
        "\n",
        "        elif i % 2 == 0:\n",
        "            print(\"Fizz\", end=\" \")\n",
        "\n",
        "        elif i % 5 == 0:\n",
        "            print(\"Buzz\", end=\" \")\n",
        "\n",
        "        else:\n",
        "            print(i, end=\" \")\n",
        "\n",
        "\n",
        "fizz_buzz()\n"
      ],
      "metadata": {
        "colab": {
          "base_uri": "https://localhost:8080/"
        },
        "id": "v79C6RlGZ4KE",
        "outputId": "3385982a-0c96-411b-aeac-33639a140604"
      },
      "execution_count": null,
      "outputs": [
        {
          "output_type": "stream",
          "name": "stdout",
          "text": [
            "1 Fizz 3 Fizz Buzz Fizz 7 Fizz 9 FizzBuzz "
          ]
        }
      ]
    },
    {
      "cell_type": "markdown",
      "source": [
        "***6.Write a Python program to find the most frequent item in a list of\n",
        "numbers. Sample input: 2, 3, 4, 2, 5, 2 Sample output: 2***"
      ],
      "metadata": {
        "id": "IU6Q_AMrqT9n"
      }
    },
    {
      "cell_type": "code",
      "source": [
        "from collections import Counter\n",
        "\n",
        "numbers = [2, 3, 4, 2, 5, 2]\n",
        "most_frequent = Counter(numbers).most_common(1)[0][0]\n",
        "\n",
        "print(most_frequent)\n"
      ],
      "metadata": {
        "id": "KESQc3c2a4pq",
        "colab": {
          "base_uri": "https://localhost:8080/"
        },
        "outputId": "f16b9636-f368-450a-de16-c0480a6b0843"
      },
      "execution_count": 1,
      "outputs": [
        {
          "output_type": "stream",
          "name": "stdout",
          "text": [
            "2\n"
          ]
        }
      ]
    },
    {
      "cell_type": "markdown",
      "source": [
        "***7. Write a Python program to find the sum of squares of the numbers in a\n",
        "list. Sample input: 2,1,3,1 Sample output: 15***"
      ],
      "metadata": {
        "id": "kfmJpGhYqn0f"
      }
    },
    {
      "cell_type": "code",
      "source": [
        "numbers = [2, 1, 3, 1]\n",
        "sum_of_squares = sum(x**2 for x in numbers)\n",
        "\n",
        "print(sum_of_squares)\n"
      ],
      "metadata": {
        "colab": {
          "base_uri": "https://localhost:8080/"
        },
        "id": "Iaj0PSTUqaGo",
        "outputId": "3e10e4b2-ecab-4ecb-d86b-06786b7f3cc4"
      },
      "execution_count": 2,
      "outputs": [
        {
          "output_type": "stream",
          "name": "stdout",
          "text": [
            "15\n"
          ]
        }
      ]
    },
    {
      "cell_type": "markdown",
      "source": [
        "***8. Write a Python program using for loop that will iterate from 1 to 15. For\n",
        "each iteration, check if the current number is odd or even, and display the\n",
        "message to the screen as odd or even. Sample input: 1….15 Sample\n",
        "output: 1-odd 2-even …. 15-odd***"
      ],
      "metadata": {
        "id": "uRCdoAgJqyh3"
      }
    },
    {
      "cell_type": "code",
      "source": [
        "for i in range(1, 16):\n",
        "    if i % 2 == 0:\n",
        "        print(f\"{i}-even\")\n",
        "    else:\n",
        "        print(f\"{i}-odd\")\n"
      ],
      "metadata": {
        "colab": {
          "base_uri": "https://localhost:8080/"
        },
        "id": "rRwXCYlTqu1m",
        "outputId": "cafcabbf-0084-4165-d501-bd572f91f4a3"
      },
      "execution_count": 3,
      "outputs": [
        {
          "output_type": "stream",
          "name": "stdout",
          "text": [
            "1-odd\n",
            "2-even\n",
            "3-odd\n",
            "4-even\n",
            "5-odd\n",
            "6-even\n",
            "7-odd\n",
            "8-even\n",
            "9-odd\n",
            "10-even\n",
            "11-odd\n",
            "12-even\n",
            "13-odd\n",
            "14-even\n",
            "15-odd\n"
          ]
        }
      ]
    },
    {
      "cell_type": "markdown",
      "source": [
        "***9. Write a Python program to convert temperatures to and from Celsius\n",
        "Fahrenheit. [Formula: c/5=f-32/9 where c=temperature in Celsius and f=\n",
        "temperature in Fahrenheit.] Sample input: Temperature in Fahrenheit\n",
        "=41 Sample output: Temperature in Celsius =5***"
      ],
      "metadata": {
        "id": "g5bgdRztq8Uu"
      }
    },
    {
      "cell_type": "code",
      "source": [
        "f = 41\n",
        "c = (f - 32) * 5 / 9\n",
        "\n",
        "print(f\"Temperature in Celsius = {c:.2f}\")\n"
      ],
      "metadata": {
        "colab": {
          "base_uri": "https://localhost:8080/"
        },
        "id": "rEVC_hcjq30H",
        "outputId": "b37ae871-572a-47e5-c60a-24dd18b7cbe9"
      },
      "execution_count": 4,
      "outputs": [
        {
          "output_type": "stream",
          "name": "stdout",
          "text": [
            "Temperature in Celsius = 5.00\n"
          ]
        }
      ]
    },
    {
      "cell_type": "markdown",
      "source": [
        "***10. Write a Python function to calculate the factorial of a number (a\n",
        "nonnegative integer). The function accepts the number as an argument.\n",
        "Sample input: 3 Sample output: 6***"
      ],
      "metadata": {
        "id": "pgYXjloPrMoF"
      }
    },
    {
      "cell_type": "code",
      "source": [
        "def factorial(n):\n",
        "    result = 1\n",
        "    for i in range(2, n + 1):\n",
        "        result *= i\n",
        "    return result\n",
        "\n",
        "print(factorial(3))\n"
      ],
      "metadata": {
        "colab": {
          "base_uri": "https://localhost:8080/"
        },
        "id": "TcflVys6rHJw",
        "outputId": "d2f6a8aa-78cb-4580-adb7-cd42fa1dbfc7"
      },
      "execution_count": 5,
      "outputs": [
        {
          "output_type": "stream",
          "name": "stdout",
          "text": [
            "6\n"
          ]
        }
      ]
    },
    {
      "cell_type": "code",
      "source": [],
      "metadata": {
        "id": "QsReyonArVA3"
      },
      "execution_count": null,
      "outputs": []
    }
  ]
}